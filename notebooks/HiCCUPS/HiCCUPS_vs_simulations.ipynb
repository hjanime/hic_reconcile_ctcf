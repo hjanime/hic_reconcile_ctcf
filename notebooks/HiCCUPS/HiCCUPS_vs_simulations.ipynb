{
 "cells": [
  {
   "cell_type": "code",
   "execution_count": 1,
   "metadata": {},
   "outputs": [],
   "source": [
    "import src\n",
    "import pandas as pd\n",
    "import os\n",
    "import numpy as np\n",
    "import warnings\n",
    "warnings.filterwarnings(\"ignore\", category=FutureWarning)\n",
    "\n",
    "import matplotlib.pyplot as plt\n",
    "import seaborn as sns\n",
    "\n",
    "from pybedtools.bedtool import BedTool\n",
    "from pybedtools import cleanup\n",
    "cleanup()\n",
    "\n",
    "figure_path = src.figures_path / \"hiccups\"\n",
    "os.makedirs(figure_path, exist_ok=True)"
   ]
  },
  {
   "cell_type": "code",
   "execution_count": 2,
   "metadata": {},
   "outputs": [
    {
     "data": {
      "text/html": [
       "<div>\n",
       "<style scoped>\n",
       "    .dataframe tbody tr th:only-of-type {\n",
       "        vertical-align: middle;\n",
       "    }\n",
       "\n",
       "    .dataframe tbody tr th {\n",
       "        vertical-align: top;\n",
       "    }\n",
       "\n",
       "    .dataframe thead th {\n",
       "        text-align: right;\n",
       "    }\n",
       "</style>\n",
       "<table border=\"1\" class=\"dataframe\">\n",
       "  <thead>\n",
       "    <tr style=\"text-align: right;\">\n",
       "      <th></th>\n",
       "      <th>chr</th>\n",
       "      <th>start</th>\n",
       "      <th>end</th>\n",
       "      <th>orientation</th>\n",
       "      <th>ctcf_id</th>\n",
       "    </tr>\n",
       "  </thead>\n",
       "  <tbody>\n",
       "    <tr>\n",
       "      <th>0</th>\n",
       "      <td>chr1</td>\n",
       "      <td>237593</td>\n",
       "      <td>237953</td>\n",
       "      <td>&gt;</td>\n",
       "      <td>0</td>\n",
       "    </tr>\n",
       "    <tr>\n",
       "      <th>1</th>\n",
       "      <td>chr1</td>\n",
       "      <td>521337</td>\n",
       "      <td>521697</td>\n",
       "      <td>&gt;</td>\n",
       "      <td>1</td>\n",
       "    </tr>\n",
       "    <tr>\n",
       "      <th>2</th>\n",
       "      <td>chr1</td>\n",
       "      <td>714087</td>\n",
       "      <td>714447</td>\n",
       "      <td>&gt;</td>\n",
       "      <td>2</td>\n",
       "    </tr>\n",
       "    <tr>\n",
       "      <th>3</th>\n",
       "      <td>chr1</td>\n",
       "      <td>805232</td>\n",
       "      <td>805362</td>\n",
       "      <td>&gt;</td>\n",
       "      <td>3</td>\n",
       "    </tr>\n",
       "    <tr>\n",
       "      <th>4</th>\n",
       "      <td>chr1</td>\n",
       "      <td>839966</td>\n",
       "      <td>840326</td>\n",
       "      <td>&gt;</td>\n",
       "      <td>4</td>\n",
       "    </tr>\n",
       "  </tbody>\n",
       "</table>\n",
       "</div>"
      ],
      "text/plain": [
       "    chr   start     end orientation  ctcf_id\n",
       "0  chr1  237593  237953           >        0\n",
       "1  chr1  521337  521697           >        1\n",
       "2  chr1  714087  714447           >        2\n",
       "3  chr1  805232  805362           >        3\n",
       "4  chr1  839966  840326           >        4"
      ]
     },
     "execution_count": 2,
     "metadata": {},
     "output_type": "execute_result"
    }
   ],
   "source": [
    "ctcfs = pd.read_csv(src.interim_data_path / \"ctcf_scores.tsv\", sep=\"\\t\").iloc[:, :5]\n",
    "ctcfs.head()"
   ]
  },
  {
   "cell_type": "code",
   "execution_count": 3,
   "metadata": {},
   "outputs": [
    {
     "data": {
      "text/html": [
       "<div>\n",
       "<style scoped>\n",
       "    .dataframe tbody tr th:only-of-type {\n",
       "        vertical-align: middle;\n",
       "    }\n",
       "\n",
       "    .dataframe tbody tr th {\n",
       "        vertical-align: top;\n",
       "    }\n",
       "\n",
       "    .dataframe thead th {\n",
       "        text-align: right;\n",
       "    }\n",
       "</style>\n",
       "<table border=\"1\" class=\"dataframe\">\n",
       "  <thead>\n",
       "    <tr style=\"text-align: right;\">\n",
       "      <th></th>\n",
       "      <th>sourceChrom</th>\n",
       "      <th>sourceStart</th>\n",
       "      <th>sourceEnd</th>\n",
       "      <th>targetChrom</th>\n",
       "      <th>targetStart</th>\n",
       "      <th>targetEnd</th>\n",
       "      <th>observed</th>\n",
       "      <th>expected_donut</th>\n",
       "      <th>fdr_donut</th>\n",
       "      <th>enrichment_score</th>\n",
       "      <th>loop_id</th>\n",
       "      <th>sourceId</th>\n",
       "      <th>targetId</th>\n",
       "    </tr>\n",
       "  </thead>\n",
       "  <tbody>\n",
       "    <tr>\n",
       "      <th>0</th>\n",
       "      <td>chr1</td>\n",
       "      <td>1050000</td>\n",
       "      <td>1060000</td>\n",
       "      <td>chr1</td>\n",
       "      <td>1180000</td>\n",
       "      <td>1190000</td>\n",
       "      <td>241</td>\n",
       "      <td>118.8020</td>\n",
       "      <td>9.583457e-17</td>\n",
       "      <td>2.028585</td>\n",
       "      <td>0</td>\n",
       "      <td>0</td>\n",
       "      <td>1</td>\n",
       "    </tr>\n",
       "    <tr>\n",
       "      <th>1</th>\n",
       "      <td>chr1</td>\n",
       "      <td>1585000</td>\n",
       "      <td>1590000</td>\n",
       "      <td>chr1</td>\n",
       "      <td>1645000</td>\n",
       "      <td>1650000</td>\n",
       "      <td>80</td>\n",
       "      <td>27.6775</td>\n",
       "      <td>1.413254e-09</td>\n",
       "      <td>2.890434</td>\n",
       "      <td>1</td>\n",
       "      <td>2</td>\n",
       "      <td>3</td>\n",
       "    </tr>\n",
       "    <tr>\n",
       "      <th>2</th>\n",
       "      <td>chr1</td>\n",
       "      <td>1710000</td>\n",
       "      <td>1715000</td>\n",
       "      <td>chr1</td>\n",
       "      <td>1835000</td>\n",
       "      <td>1840000</td>\n",
       "      <td>154</td>\n",
       "      <td>53.7355</td>\n",
       "      <td>1.298644e-18</td>\n",
       "      <td>2.865889</td>\n",
       "      <td>2</td>\n",
       "      <td>4</td>\n",
       "      <td>5</td>\n",
       "    </tr>\n",
       "    <tr>\n",
       "      <th>3</th>\n",
       "      <td>chr1</td>\n",
       "      <td>2120000</td>\n",
       "      <td>2130000</td>\n",
       "      <td>chr1</td>\n",
       "      <td>2310000</td>\n",
       "      <td>2320000</td>\n",
       "      <td>506</td>\n",
       "      <td>143.4070</td>\n",
       "      <td>3.235315e-100</td>\n",
       "      <td>3.528419</td>\n",
       "      <td>3</td>\n",
       "      <td>6</td>\n",
       "      <td>8</td>\n",
       "    </tr>\n",
       "    <tr>\n",
       "      <th>4</th>\n",
       "      <td>chr1</td>\n",
       "      <td>2130000</td>\n",
       "      <td>2135000</td>\n",
       "      <td>chr1</td>\n",
       "      <td>2515000</td>\n",
       "      <td>2520000</td>\n",
       "      <td>52</td>\n",
       "      <td>20.7272</td>\n",
       "      <td>1.554971e-03</td>\n",
       "      <td>2.508781</td>\n",
       "      <td>4</td>\n",
       "      <td>7</td>\n",
       "      <td>12</td>\n",
       "    </tr>\n",
       "  </tbody>\n",
       "</table>\n",
       "</div>"
      ],
      "text/plain": [
       "  sourceChrom  sourceStart  sourceEnd targetChrom  targetStart  targetEnd  \\\n",
       "0        chr1      1050000    1060000        chr1      1180000    1190000   \n",
       "1        chr1      1585000    1590000        chr1      1645000    1650000   \n",
       "2        chr1      1710000    1715000        chr1      1835000    1840000   \n",
       "3        chr1      2120000    2130000        chr1      2310000    2320000   \n",
       "4        chr1      2130000    2135000        chr1      2515000    2520000   \n",
       "\n",
       "   observed  expected_donut      fdr_donut  enrichment_score  loop_id  \\\n",
       "0       241        118.8020   9.583457e-17          2.028585        0   \n",
       "1        80         27.6775   1.413254e-09          2.890434        1   \n",
       "2       154         53.7355   1.298644e-18          2.865889        2   \n",
       "3       506        143.4070  3.235315e-100          3.528419        3   \n",
       "4        52         20.7272   1.554971e-03          2.508781        4   \n",
       "\n",
       "   sourceId  targetId  \n",
       "0         0         1  \n",
       "1         2         3  \n",
       "2         4         5  \n",
       "3         6         8  \n",
       "4         7        12  "
      ]
     },
     "execution_count": 3,
     "metadata": {},
     "output_type": "execute_result"
    }
   ],
   "source": [
    "hiccups = pd.read_csv(src.processed_data_path / \"GSE63525_HiCCUPS_loops.tsv\", sep=\"\\t\")\n",
    "hiccups.head()"
   ]
  },
  {
   "cell_type": "code",
   "execution_count": 4,
   "metadata": {},
   "outputs": [
    {
     "name": "stdout",
     "output_type": "stream",
     "text": [
      "  sourceChrom  sourceStart  sourceEnd  left_id left_orientation\n",
      "0        chr1      1050000    1060000       24                >\n",
      "1        chr1      1710000    1715000       72                >\n",
      "2        chr1      2120000    2130000       96                >\n",
      "3        chr1      2345000    2350000      105                <\n",
      "4        chr1      2345000    2350000      106                >\n",
      "  targetChrom  targetStart  targetEnd  right_id right_orientation\n",
      "0        chr1      1180000    1190000        31                 <\n",
      "1        chr1      1180000    1190000        32                 <\n",
      "2        chr1      1835000    1840000        80                 <\n",
      "3        chr1      2310000    2320000       103                 <\n",
      "4        chr1      2310000    2320000       104                 >\n"
     ]
    }
   ],
   "source": [
    "source_anchors = hiccups[['sourceChrom', 'sourceStart', 'sourceEnd']].copy()\n",
    "source_anchors.columns = src.coords\n",
    "source_anchors = source_anchors.sort_values(src.coords).drop_duplicates()\n",
    "target_anchors = hiccups[['targetChrom', 'targetStart', 'targetEnd']].copy()\n",
    "target_anchors.columns = src.coords\n",
    "target_anchors = target_anchors.sort_values(src.coords).drop_duplicates()\n",
    "\n",
    "\n",
    "source_anchors_to_ctcfs = BedTool.from_dataframe(source_anchors)\\\n",
    "                                    .intersect(BedTool.from_dataframe(ctcfs), wa=True, wb=True)\\\n",
    "                                    .to_dataframe(names=source_anchors.columns.tolist() + \n",
    "                                                        ctcfs.columns.map(lambda x: \"ctcf_\" + x if x in source_anchors.columns else x).tolist())\n",
    "source_anchors_to_ctcfs = source_anchors_to_ctcfs[src.coords + ['ctcf_id', 'orientation']]\n",
    "source_anchors_to_ctcfs.columns = ['sourceChrom', 'sourceStart', 'sourceEnd', 'left_id', 'left_orientation']\n",
    "\n",
    "print(source_anchors_to_ctcfs.head())\n",
    "target_anchors_to_ctcfs = BedTool.from_dataframe(target_anchors)\\\n",
    "                                    .intersect(BedTool.from_dataframe(ctcfs), wa=True, wb=True)\\\n",
    "                                    .to_dataframe(names=target_anchors.columns.tolist() + \n",
    "                                                        ctcfs.columns.map(lambda x: \"ctcf_\" + x if x in target_anchors.columns else x).tolist())\n",
    "target_anchors_to_ctcfs = target_anchors_to_ctcfs[src.coords + ['ctcf_id', 'orientation']]\n",
    "target_anchors_to_ctcfs.columns = ['targetChrom', 'targetStart', 'targetEnd', 'right_id', 'right_orientation']\n",
    "print(target_anchors_to_ctcfs.head())"
   ]
  },
  {
   "cell_type": "code",
   "execution_count": 5,
   "metadata": {},
   "outputs": [
    {
     "name": "stdout",
     "output_type": "stream",
     "text": [
      "HiCCUPS predicted 6423 loops\n"
     ]
    },
    {
     "data": {
      "text/html": [
       "<div>\n",
       "<style scoped>\n",
       "    .dataframe tbody tr th:only-of-type {\n",
       "        vertical-align: middle;\n",
       "    }\n",
       "\n",
       "    .dataframe tbody tr th {\n",
       "        vertical-align: top;\n",
       "    }\n",
       "\n",
       "    .dataframe thead th {\n",
       "        text-align: right;\n",
       "    }\n",
       "</style>\n",
       "<table border=\"1\" class=\"dataframe\">\n",
       "  <thead>\n",
       "    <tr style=\"text-align: right;\">\n",
       "      <th></th>\n",
       "      <th>left_id</th>\n",
       "      <th>right_id</th>\n",
       "      <th>count</th>\n",
       "    </tr>\n",
       "  </thead>\n",
       "  <tbody>\n",
       "    <tr>\n",
       "      <th>0</th>\n",
       "      <td>24</td>\n",
       "      <td>31</td>\n",
       "      <td>1</td>\n",
       "    </tr>\n",
       "    <tr>\n",
       "      <th>1</th>\n",
       "      <td>24</td>\n",
       "      <td>32</td>\n",
       "      <td>1</td>\n",
       "    </tr>\n",
       "    <tr>\n",
       "      <th>2</th>\n",
       "      <td>72</td>\n",
       "      <td>80</td>\n",
       "      <td>1</td>\n",
       "    </tr>\n",
       "    <tr>\n",
       "      <th>3</th>\n",
       "      <td>96</td>\n",
       "      <td>103</td>\n",
       "      <td>1</td>\n",
       "    </tr>\n",
       "    <tr>\n",
       "      <th>4</th>\n",
       "      <td>106</td>\n",
       "      <td>136</td>\n",
       "      <td>1</td>\n",
       "    </tr>\n",
       "  </tbody>\n",
       "</table>\n",
       "</div>"
      ],
      "text/plain": [
       "   left_id  right_id  count\n",
       "0       24        31      1\n",
       "1       24        32      1\n",
       "2       72        80      1\n",
       "3       96       103      1\n",
       "4      106       136      1"
      ]
     },
     "execution_count": 5,
     "metadata": {},
     "output_type": "execute_result"
    }
   ],
   "source": [
    "hiccups_loops = hiccups\\\n",
    "                    .merge(source_anchors_to_ctcfs)\\\n",
    "                    .merge(target_anchors_to_ctcfs)\n",
    "# remove non-convergent loops\n",
    "hiccups_loops = hiccups_loops[(hiccups_loops.left_orientation == '>') & (hiccups_loops.right_orientation == \"<\")].reset_index(drop=True)\n",
    "hiccups_loops = hiccups_loops.groupby(['left_id', 'right_id']).size().rename(\"count\").reset_index()\n",
    "print(\"HiCCUPS predicted {} loops\".format(hiccups_loops.shape[0]))\n",
    "hiccups_loops.head()"
   ]
  },
  {
   "cell_type": "code",
   "execution_count": 6,
   "metadata": {},
   "outputs": [],
   "source": [
    "def metrics(simulation, hiccups_loops, min_threshold=0, max_threshold=1, n_points=None):\n",
    "    hiccups_loops_set = set(hiccups_loops.iloc[:, :2].to_records(index=False).tolist())\n",
    "\n",
    "    thresholds = []\n",
    "    precisions = []\n",
    "    recalls = []\n",
    "    n_points = max_threshold - min_threshold + 1 if n_points is None else n_points\n",
    "    for thresh in src.progress(np.linspace(min_threshold, max_threshold, n_points)):\n",
    "        ts = simulation[simulation['count'] > thresh]\n",
    "        ts_loops = set(ts.iloc[:, :2].to_records(index=False).tolist())\n",
    "        if len(ts_loops) > 0:\n",
    "            # true positives\n",
    "            tp = len(ts_loops.intersection(hiccups_loops_set))\n",
    "            # false positives\n",
    "            fp = len(ts_loops.difference(hiccups_loops_set))\n",
    "            # false negatives\n",
    "            fn = len(hiccups_loops_set.difference(ts_loops))\n",
    "\n",
    "            precision = tp / (tp + fp)\n",
    "            recall = tp / (tp + fn)\n",
    "        else:\n",
    "            precision = 0\n",
    "            recall = 0\n",
    "\n",
    "        thresholds.append(thresh)\n",
    "        precisions.append(precision)\n",
    "        recalls.append(recall)\n",
    "    return thresholds, recalls, precisions\n",
    "\n",
    "def order_for_ROC(recalls, precisions):\n",
    "    if isinstance(recalls, list):\n",
    "        recalls = np.array(recalls)\n",
    "    if isinstance(precisions, list):\n",
    "        precisions = np.array(precisions)\n",
    "    idx = np.argsort(recalls)\n",
    "    return recalls[idx], precisions[idx]"
   ]
  },
  {
   "cell_type": "code",
   "execution_count": 7,
   "metadata": {},
   "outputs": [],
   "source": [
    "perfect_simulation = pd.read_csv(src.interim_data_path / \"simulations\" / \"sim_prob_perfect_epochs_100.tsv\", sep=\"\\t\")\n",
    "motifscore_simulation = pd.read_csv(src.interim_data_path / \"simulations\" / \"sim_prob_motifscore_epochs_100.tsv\", sep=\"\\t\")\n",
    "chipseqscore_simulation = pd.read_csv(src.interim_data_path / \"simulations\" / \"sim_prob_chipseqscore_epochs_100.tsv\", sep=\"\\t\")\n",
    "rankaggscore_simulation = pd.read_csv(src.interim_data_path / \"simulations\" / \"sim_prob_rankagg_epochs_100.tsv\", sep=\"\\t\")"
   ]
  },
  {
   "cell_type": "code",
   "execution_count": 8,
   "metadata": {},
   "outputs": [],
   "source": [
    "max_threshold = max(perfect_simulation['count'].max(),\n",
    "                    motifscore_simulation['count'].max(),\n",
    "                    chipseqscore_simulation['count'].max(),\n",
    "                    rankaggscore_simulation['count'].max())"
   ]
  },
  {
   "cell_type": "code",
   "execution_count": 9,
   "metadata": {},
   "outputs": [
    {
     "data": {
      "application/vnd.jupyter.widget-view+json": {
       "model_id": "06abc4a412df4a27a410b38355a39229",
       "version_major": 2,
       "version_minor": 0
      },
      "text/plain": [
       "HBox(children=(IntProgress(value=0, max=688), HTML(value='')))"
      ]
     },
     "metadata": {},
     "output_type": "display_data"
    },
    {
     "name": "stdout",
     "output_type": "stream",
     "text": [
      "\n"
     ]
    },
    {
     "data": {
      "application/vnd.jupyter.widget-view+json": {
       "model_id": "a3f9ed1cf0c740d2ba9fd9650935b601",
       "version_major": 2,
       "version_minor": 0
      },
      "text/plain": [
       "HBox(children=(IntProgress(value=0, max=688), HTML(value='')))"
      ]
     },
     "metadata": {},
     "output_type": "display_data"
    },
    {
     "name": "stdout",
     "output_type": "stream",
     "text": [
      "\n"
     ]
    },
    {
     "data": {
      "application/vnd.jupyter.widget-view+json": {
       "model_id": "91fdd291920c4dd2b837fba939dbf92f",
       "version_major": 2,
       "version_minor": 0
      },
      "text/plain": [
       "HBox(children=(IntProgress(value=0, max=688), HTML(value='')))"
      ]
     },
     "metadata": {},
     "output_type": "display_data"
    },
    {
     "name": "stdout",
     "output_type": "stream",
     "text": [
      "\n"
     ]
    },
    {
     "data": {
      "application/vnd.jupyter.widget-view+json": {
       "model_id": "fa113c8522ab4637b0f97a1c8fb8344e",
       "version_major": 2,
       "version_minor": 0
      },
      "text/plain": [
       "HBox(children=(IntProgress(value=0, max=688), HTML(value='')))"
      ]
     },
     "metadata": {},
     "output_type": "display_data"
    },
    {
     "name": "stdout",
     "output_type": "stream",
     "text": [
      "\n"
     ]
    }
   ],
   "source": [
    "ths_perfect, rec_perfect, prec_perfect = metrics(perfect_simulation, hiccups_loops, max_threshold=max_threshold)\n",
    "ths_motifscore, rec_motifscore, prec_motifscore = metrics(motifscore_simulation, hiccups_loops, max_threshold=max_threshold)\n",
    "ths_chipseqscore, rec_chipseqscore, prec_chipseqscore = metrics(chipseqscore_simulation, hiccups_loops, max_threshold=max_threshold)\n",
    "ths_rankaggscore, rec_rankaggscore, prec_rankaggscore = metrics(rankaggscore_simulation, hiccups_loops, max_threshold=max_threshold)"
   ]
  },
  {
   "cell_type": "code",
   "execution_count": 12,
   "metadata": {},
   "outputs": [
    {
     "data": {
      "image/png": "[encoded data removed]",
      "text/plain": [
       "<Figure size 576x360 with 1 Axes>"
      ]
     },
     "metadata": {
      "needs_background": "light"
     },
     "output_type": "display_data"
    }
   ],
   "source": [
    "linewidth=4\n",
    "alpha=0.9\n",
    "\n",
    "fig = plt.figure(figsize=(8, 5))\n",
    "plt.plot(ths_perfect, rec_perfect, label='Perfect', linewidth=linewidth, alpha=alpha)\n",
    "plt.plot(ths_motifscore, rec_motifscore, label='Motif score', linewidth=linewidth, alpha=alpha)\n",
    "plt.plot(ths_chipseqscore, rec_chipseqscore, label='ChipSeq score', linewidth=linewidth, alpha=alpha)\n",
    "plt.plot(ths_rankaggscore, rec_rankaggscore, label='Rank score', linewidth=linewidth, alpha=alpha)\n",
    "plt.legend(title='Simulation', title_fontsize=20, fontsize=15)\n",
    "plt.xlabel(\"Minimum threshold\\n(# loop occurences in the simulation)\")\n",
    "plt.ylabel(\"HiCCUPS loops $recall$\\nfrom simulation\")\n",
    "fig.savefig(figure_path / \"sim_vs_hiccups_recall.pdf\", bbox_inches='tight', transparent=True)\n",
    "plt.grid()\n",
    "plt.show()"
   ]
  },
  {
   "cell_type": "code",
   "execution_count": 13,
   "metadata": {},
   "outputs": [
    {
     "data": {
      "image/png": "[encoded data removed]",
      "text/plain": [
       "<Figure size 576x504 with 1 Axes>"
      ]
     },
     "metadata": {
      "needs_background": "light"
     },
     "output_type": "display_data"
    }
   ],
   "source": [
    "linewidth=4\n",
    "alpha=0.9\n",
    "fig = plt.figure(figsize=(8, 7))\n",
    "plt.plot(*order_for_ROC(rec_perfect, prec_perfect), label='Perfect', linewidth=linewidth, alpha=alpha)\n",
    "plt.plot(*order_for_ROC(rec_motifscore, prec_motifscore), label='Motif score', linewidth=linewidth, alpha=alpha)\n",
    "plt.plot(*order_for_ROC(rec_chipseqscore, prec_chipseqscore), label='ChipSeq score', linewidth=linewidth, alpha=alpha)\n",
    "plt.plot(*order_for_ROC(rec_rankaggscore, prec_rankaggscore), label='Rank score', linewidth=linewidth, alpha=alpha)\n",
    "plt.legend()\n",
    "plt.grid()\n",
    "plt.legend(title='Simulation', title_fontsize=20, fontsize=15)\n",
    "plt.xlabel(\"$recall$\\n(% HiCCUP loops recovered by simulation)\")\n",
    "plt.ylabel(\"$precision$\\n(% simulated loops confirmed by HiCCUP)\")\n",
    "fig.savefig(figure_path / \"sim_vs_hiccups_recallprecision.pdf\", bbox_inches='tight', transparent=True)\n",
    "plt.show()"
   ]
  }
 ],
 "metadata": {
  "kernelspec": {
   "display_name": "Python (hic_reconcile_ctcf)",
   "language": "python",
   "name": "hic_reconcile_ctcf"
  },
  "language_info": {
   "codemirror_mode": {
    "name": "ipython",
    "version": 3
   },
   "file_extension": ".py",
   "mimetype": "text/x-python",
   "name": "python",
   "nbconvert_exporter": "python",
   "pygments_lexer": "ipython3",
   "version": "3.7.3"
  }
 },
 "nbformat": 4,
 "nbformat_minor": 2
}
